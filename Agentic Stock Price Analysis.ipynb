{
 "cells": [
  {
   "cell_type": "code",
   "execution_count": null,
   "id": "c5f44fa6",
   "metadata": {},
   "outputs": [],
   "source": [
    "import os\n",
    "from autogen import UserProxyAgent, AssistantAgent, GroupChat, GroupChatManager\n",
    "from autogen import ConversableAgent\n",
    "from dotenv import load_dotenv\n",
    "\n",
    "load_dotenv(override=True)"
   ]
  },
  {
   "cell_type": "code",
   "execution_count": null,
   "id": "d15a8d55",
   "metadata": {},
   "outputs": [],
   "source": [
    "llm_config = {\n",
    "    \"model\": \"gpt-4o\",\n",
    "    \"api_key\": os.getenv(\"OPENAI_API_KEY\"),\n",
    "}"
   ]
  },
  {
   "cell_type": "markdown",
   "id": "052995f8",
   "metadata": {},
   "source": [
    "## The task"
   ]
  },
  {
   "cell_type": "code",
   "execution_count": null,
   "id": "7a9aed1a",
   "metadata": {},
   "outputs": [],
   "source": [
    "task= \"Analyze the daily closing prices of Apple (AAPL) stock for the past 1 month and create a berif report.\""
   ]
  },
  {
   "cell_type": "markdown",
   "id": "691ed7f7",
   "metadata": {},
   "source": [
    "## Create a group chat\n",
    "This group chat will include these agents:\n",
    "* User_proxy or Admin: to allow the user to comment on the report and ask the writer to refine it.\n",
    "* Planner: to determine relevant information needed to complete the task.\n",
    "* Engineer: to write code using the defined plan by the planner.\n",
    "* Executor: to execute the code written by the engineer.\n",
    "* Writer: to write the report."
   ]
  },
  {
   "cell_type": "code",
   "execution_count": null,
   "id": "4c078d1d",
   "metadata": {},
   "outputs": [],
   "source": [
    "user_proxy = UserProxyAgent(\n",
    "    name=\"Admin\",\n",
    "    system_message= \"Give the task, and send instructions to the writer to refine the stock analysis report.\",\n",
    "    code_execution_config=False,\n",
    "    llm_config=llm_config,\n",
    "    human_input_mode=\"ALWAYS\",\n",
    ")"
   ]
  },
  {
   "cell_type": "code",
   "execution_count": null,
   "id": "be0aa89e",
   "metadata": {},
   "outputs": [],
   "source": [
    "planner = ConversableAgent(\n",
    "    name=\"Planner\",\n",
    "    system_message= \"\"\"\n",
    "    Given a task, please determine what stock information is needed to complete the task.\n",
    "    Please note that the information will all be retrieved using Python code.\n",
    "    Please only suggest information that can be retrieved using Python code.\n",
    "    After each step is done by others, check the progress and instruct the remaining steps.\n",
    "    If a step fails, try to workaround.\n",
    "    \"\"\",\n",
    "    llm_config=llm_config,\n",
    ")"
   ]
  },
  {
   "cell_type": "code",
   "execution_count": null,
   "id": "07c9c0d9",
   "metadata": {},
   "outputs": [],
   "source": [
    "engineer = AssistantAgent(\n",
    "    name=\"Engineer\",\n",
    "    description= \"An engineer that writes code to fetch and analyze stock data based on the plan provided by the planner.\",\n",
    "    llm_config=llm_config,\n",
    ")"
   ]
  },
  {
   "cell_type": "code",
   "execution_count": null,
   "id": "c880333c",
   "metadata": {},
   "outputs": [],
   "source": [
    "executor = ConversableAgent(\n",
    "    name= \"Executor\",\n",
    "    system_message= \"Execute the code written by the engineer and report the stock data results.\",\n",
    "    human_input_mode=\"NEVER\",\n",
    "    code_execution_config={\n",
    "        \"last_n_messages\": 6,\n",
    "        \"work_dir\": \"coding\",\n",
    "        \"use_docker\": False,\n",
    "    },\n",
    ")"
   ]
  },
  {
   "cell_type": "code",
   "execution_count": null,
   "id": "79c4f90a",
   "metadata": {},
   "outputs": [],
   "source": [
    "writer = ConversableAgent(\n",
    "    name= \"Writer\",\n",
    "    llm_config=llm_config,\n",
    "    system_message= \"Stock Analysis Report Writer. Please write stock analysis reports in markdown format (with relevant titles) and put the code in the code block.\",\n",
    "    description= \"Writer. Write stock analysis reports based on the code execution results and take feedback from the admin to refine the report.\",\n",
    ")"
   ]
  },
  {
   "cell_type": "markdown",
   "id": "b7cbc57c",
   "metadata": {},
   "source": [
    "## Add a speaker selection policy"
   ]
  },
  {
   "cell_type": "code",
   "execution_count": null,
   "id": "14ae31da",
   "metadata": {},
   "outputs": [],
   "source": [
    "groupchat = GroupChat(\n",
    "    agents=[user_proxy, planner, engineer, executor, writer],\n",
    "    messages=[],\n",
    "    max_round=10,\n",
    "    allowed_or_disallowed_speaker_transitions={\n",
    "        user_proxy: [engineer, writer, executor, planner],\n",
    "        engineer: [user_proxy, executor],\n",
    "        writer: [user_proxy, planner],\n",
    "        executor: [user_proxy, engineer, planner],\n",
    "        planner: [user_proxy, engineer, writer],\n",
    "    },\n",
    "    speaker_transitions_type=\"allowed\",\n",
    ")\n",
    "\n"
   ]
  },
  {
   "cell_type": "code",
   "execution_count": null,
   "id": "bf11bf77",
   "metadata": {},
   "outputs": [],
   "source": [
    "manager = GroupChatManager(\n",
    "    groupchat=groupchat, llm_config=llm_config\n",
    ")"
   ]
  },
  {
   "cell_type": "markdown",
   "id": "7ef1efb5",
   "metadata": {},
   "source": [
    "## Start the group chat"
   ]
  },
  {
   "cell_type": "code",
   "execution_count": null,
   "id": "8fee297e",
   "metadata": {},
   "outputs": [],
   "source": [
    "groupchat_result = user_proxy.initiate_chat(\n",
    "    manager,\n",
    "    message=task,\n",
    ")"
   ]
  },
  {
   "cell_type": "code",
   "execution_count": null,
   "id": "ff278d6e",
   "metadata": {},
   "outputs": [],
   "source": []
  }
 ],
 "metadata": {
  "kernelspec": {
   "display_name": "Python 3",
   "language": "python",
   "name": "python3"
  },
  "language_info": {
   "codemirror_mode": {
    "name": "ipython",
    "version": 3
   },
   "file_extension": ".py",
   "mimetype": "text/x-python",
   "name": "python",
   "nbconvert_exporter": "python",
   "pygments_lexer": "ipython3",
   "version": "3.9.13"
  }
 },
 "nbformat": 4,
 "nbformat_minor": 5
}
